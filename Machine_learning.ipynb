{
  "nbformat": 4,
  "nbformat_minor": 0,
  "metadata": {
    "colab": {
      "name": "Machine learning.ipynb",
      "provenance": [],
      "collapsed_sections": [],
      "authorship_tag": "ABX9TyNtbLicG+nc0qVepWBTlhQK",
      "include_colab_link": true
    },
    "kernelspec": {
      "name": "python3",
      "display_name": "Python 3"
    }
  },
  "cells": [
    {
      "cell_type": "markdown",
      "metadata": {
        "id": "view-in-github",
        "colab_type": "text"
      },
      "source": [
        "<a href=\"https://colab.research.google.com/github/Aparajithashri/Learn/blob/master/Machine_learning.ipynb\" target=\"_parent\"><img src=\"https://colab.research.google.com/assets/colab-badge.svg\" alt=\"Open In Colab\"/></a>"
      ]
    },
    {
      "cell_type": "markdown",
      "metadata": {
        "id": "z23UoePIKtnu",
        "colab_type": "text"
      },
      "source": [
        "##LINEAR REGRESSION"
      ]
    },
    {
      "cell_type": "markdown",
      "metadata": {
        "id": "i6fK0Q4lEchp",
        "colab_type": "text"
      },
      "source": [
        "##Predict the grade using linear regression"
      ]
    },
    {
      "cell_type": "code",
      "metadata": {
        "id": "6tmicNcAVzdn",
        "colab_type": "code",
        "colab": {}
      },
      "source": [
        " import pandas as pd  \n",
        "import numpy as np  \n",
        "import matplotlib.pyplot as plt  \n",
        "from sklearn.model_selection import train_test_split \n",
        "from sklearn.linear_model import LinearRegression\n",
        "from sklearn import metrics\n",
        "%matplotlib inline"
      ],
      "execution_count": null,
      "outputs": []
    },
    {
      "cell_type": "code",
      "metadata": {
        "id": "KhUt2wjTV984",
        "colab_type": "code",
        "colab": {
          "base_uri": "https://localhost:8080/",
          "height": 684
        },
        "outputId": "4ca96f9d-6082-4af3-d5aa-a93b1753f564"
      },
      "source": [
        "data= pd.read_csv('marksheet.csv')\n",
        "data.columns=['x','y']\n",
        "X=data.iloc[:,data.columns!='y']\n",
        "Y=data.iloc[:,data.columns=='y']\n",
        "X_train, X_test, Y_train, Y_test = train_test_split(X, Y, test_size=0.2, random_state= 0)\n",
        "model =LinearRegression()\n",
        "model.fit(X_train, Y_train)\n",
        "y_pred = model.predict(X_test)\n",
        "print(\"Actual Grade\")\n",
        "print(Y_test)\n",
        "print(\"Predicted Grade\")\n",
        "print (np.round(y_pred))\n",
        "plt.scatter(X_test, Y_test,  color='gray')\n",
        "plt.plot(X_test, y_pred, color='red', linewidth=2)\n",
        "plt.show()\n",
        "print('Mean Absolute Error:', metrics.mean_absolute_error(Y_test, y_pred))  \n",
        "print('Mean Squared Error:', metrics.mean_squared_error(Y_test, y_pred))  \n",
        "print('Root Mean Squared Error:', np.sqrt(metrics.mean_squared_error(Y_test, y_pred)))"
      ],
      "execution_count": null,
      "outputs": [
        {
          "output_type": "stream",
          "text": [
            "Actual Grade\n",
            "    y\n",
            "29  9\n",
            "4   8\n",
            "26  8\n",
            "30  8\n",
            "32  9\n",
            "37  6\n",
            "34  8\n",
            "40  8\n",
            "7   9\n",
            "10  8\n",
            "Predicted Grade\n",
            "[[9.]\n",
            " [8.]\n",
            " [8.]\n",
            " [9.]\n",
            " [9.]\n",
            " [8.]\n",
            " [9.]\n",
            " [8.]\n",
            " [8.]\n",
            " [8.]]\n"
          ],
          "name": "stdout"
        },
        {
          "output_type": "display_data",
          "data": {
            "image/png": "[encoded data removed]",
            "text/plain": [
              "<Figure size 432x288 with 1 Axes>"
            ]
          },
          "metadata": {
            "tags": [],
            "needs_background": "light"
          }
        },
        {
          "output_type": "stream",
          "text": [
            "Mean Absolute Error: 0.5314562733880778\n",
            "Mean Squared Error: 0.5604384721760381\n",
            "Root Mean Squared Error: 0.7486243865758303\n"
          ],
          "name": "stdout"
        }
      ]
    }
  ]
}